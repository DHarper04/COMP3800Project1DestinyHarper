{
 "cells": [
  {
   "cell_type": "code",
   "execution_count": 251,
   "id": "4c8994ac",
   "metadata": {},
   "outputs": [
    {
     "data": {
      "text/html": [
       "<div>\n",
       "<style scoped>\n",
       "    .dataframe tbody tr th:only-of-type {\n",
       "        vertical-align: middle;\n",
       "    }\n",
       "\n",
       "    .dataframe tbody tr th {\n",
       "        vertical-align: top;\n",
       "    }\n",
       "\n",
       "    .dataframe thead th {\n",
       "        text-align: right;\n",
       "    }\n",
       "</style>\n",
       "<table border=\"1\" class=\"dataframe\">\n",
       "  <thead>\n",
       "    <tr style=\"text-align: right;\">\n",
       "      <th></th>\n",
       "      <th>Name</th>\n",
       "      <th>Date</th>\n",
       "      <th>Rate</th>\n",
       "      <th>Votes</th>\n",
       "      <th>Genre</th>\n",
       "      <th>Duration</th>\n",
       "      <th>Type</th>\n",
       "      <th>Certificate</th>\n",
       "      <th>Episodes</th>\n",
       "      <th>Nudity</th>\n",
       "      <th>Violence</th>\n",
       "      <th>Profanity</th>\n",
       "      <th>Alcohol</th>\n",
       "      <th>Frightening</th>\n",
       "    </tr>\n",
       "  </thead>\n",
       "  <tbody>\n",
       "    <tr>\n",
       "      <th>0</th>\n",
       "      <td>No Time to Die</td>\n",
       "      <td>2021</td>\n",
       "      <td>7.6</td>\n",
       "      <td>107,163</td>\n",
       "      <td>Action, Adventure, Thriller</td>\n",
       "      <td>163</td>\n",
       "      <td>Film</td>\n",
       "      <td>PG-13</td>\n",
       "      <td>-</td>\n",
       "      <td>Mild</td>\n",
       "      <td>Moderate</td>\n",
       "      <td>Mild</td>\n",
       "      <td>Mild</td>\n",
       "      <td>Moderate</td>\n",
       "    </tr>\n",
       "    <tr>\n",
       "      <th>1</th>\n",
       "      <td>The Guilty</td>\n",
       "      <td>2021</td>\n",
       "      <td>6.3</td>\n",
       "      <td>64,375</td>\n",
       "      <td>Crime, Drama, Thriller</td>\n",
       "      <td>90</td>\n",
       "      <td>Film</td>\n",
       "      <td>R</td>\n",
       "      <td>-</td>\n",
       "      <td>None</td>\n",
       "      <td>None</td>\n",
       "      <td>Severe</td>\n",
       "      <td>None</td>\n",
       "      <td>Moderate</td>\n",
       "    </tr>\n",
       "    <tr>\n",
       "      <th>2</th>\n",
       "      <td>The Many Saints of Newark</td>\n",
       "      <td>2021</td>\n",
       "      <td>6.4</td>\n",
       "      <td>27,145</td>\n",
       "      <td>Crime, Drama</td>\n",
       "      <td>120</td>\n",
       "      <td>Film</td>\n",
       "      <td>R</td>\n",
       "      <td>-</td>\n",
       "      <td>Moderate</td>\n",
       "      <td>Severe</td>\n",
       "      <td>Severe</td>\n",
       "      <td>Moderate</td>\n",
       "      <td>Moderate</td>\n",
       "    </tr>\n",
       "    <tr>\n",
       "      <th>3</th>\n",
       "      <td>Venom: Let There Be Carnage</td>\n",
       "      <td>2021</td>\n",
       "      <td>6.4</td>\n",
       "      <td>30,443</td>\n",
       "      <td>Action, Adventure, Sci-Fi</td>\n",
       "      <td>97</td>\n",
       "      <td>Film</td>\n",
       "      <td>PG-13</td>\n",
       "      <td>-</td>\n",
       "      <td>None</td>\n",
       "      <td>Moderate</td>\n",
       "      <td>Moderate</td>\n",
       "      <td>Mild</td>\n",
       "      <td>Moderate</td>\n",
       "    </tr>\n",
       "    <tr>\n",
       "      <th>4</th>\n",
       "      <td>Dune</td>\n",
       "      <td>2021</td>\n",
       "      <td>8.3</td>\n",
       "      <td>84,636</td>\n",
       "      <td>Action, Adventure, Drama</td>\n",
       "      <td>155</td>\n",
       "      <td>Film</td>\n",
       "      <td>PG-13</td>\n",
       "      <td>-</td>\n",
       "      <td>None</td>\n",
       "      <td>Moderate</td>\n",
       "      <td>None</td>\n",
       "      <td>Mild</td>\n",
       "      <td>Moderate</td>\n",
       "    </tr>\n",
       "    <tr>\n",
       "      <th>5</th>\n",
       "      <td>Ted Lasso</td>\n",
       "      <td>2021</td>\n",
       "      <td>8.8</td>\n",
       "      <td>117,562</td>\n",
       "      <td>Comedy, Drama, Sport</td>\n",
       "      <td>30</td>\n",
       "      <td>Series</td>\n",
       "      <td>TV-MA</td>\n",
       "      <td>23</td>\n",
       "      <td>Mild</td>\n",
       "      <td>None</td>\n",
       "      <td>Severe</td>\n",
       "      <td>Mild</td>\n",
       "      <td>None</td>\n",
       "    </tr>\n",
       "    <tr>\n",
       "      <th>6</th>\n",
       "      <td>Free Guy</td>\n",
       "      <td>2021</td>\n",
       "      <td>7.3</td>\n",
       "      <td>153,835</td>\n",
       "      <td>Action, Adventure, Comedy</td>\n",
       "      <td>115</td>\n",
       "      <td>Film</td>\n",
       "      <td>PG-13</td>\n",
       "      <td>-</td>\n",
       "      <td>Mild</td>\n",
       "      <td>Moderate</td>\n",
       "      <td>Moderate</td>\n",
       "      <td>None</td>\n",
       "      <td>Mild</td>\n",
       "    </tr>\n",
       "    <tr>\n",
       "      <th>7</th>\n",
       "      <td>House of the Dragon</td>\n",
       "      <td>2021</td>\n",
       "      <td>No Rate</td>\n",
       "      <td>No Votes</td>\n",
       "      <td>Action, Adventure, Drama</td>\n",
       "      <td>None</td>\n",
       "      <td>Series</td>\n",
       "      <td>None</td>\n",
       "      <td>10</td>\n",
       "      <td>No Rate</td>\n",
       "      <td>No Rate</td>\n",
       "      <td>No Rate</td>\n",
       "      <td>No Rate</td>\n",
       "      <td>No Rate</td>\n",
       "    </tr>\n",
       "    <tr>\n",
       "      <th>8</th>\n",
       "      <td>What If...?</td>\n",
       "      <td>2021</td>\n",
       "      <td>7.6</td>\n",
       "      <td>51,959</td>\n",
       "      <td>Animation, Action, Adventure</td>\n",
       "      <td>None</td>\n",
       "      <td>Series</td>\n",
       "      <td>TV-14</td>\n",
       "      <td>18</td>\n",
       "      <td>None</td>\n",
       "      <td>Moderate</td>\n",
       "      <td>Mild</td>\n",
       "      <td>Mild</td>\n",
       "      <td>Moderate</td>\n",
       "    </tr>\n",
       "    <tr>\n",
       "      <th>9</th>\n",
       "      <td>Sex Education</td>\n",
       "      <td>2021</td>\n",
       "      <td>8.3</td>\n",
       "      <td>220,201</td>\n",
       "      <td>Comedy, Drama</td>\n",
       "      <td>45</td>\n",
       "      <td>Series</td>\n",
       "      <td>TV-MA</td>\n",
       "      <td>25</td>\n",
       "      <td>Severe</td>\n",
       "      <td>Mild</td>\n",
       "      <td>Severe</td>\n",
       "      <td>Moderate</td>\n",
       "      <td>Mild</td>\n",
       "    </tr>\n",
       "  </tbody>\n",
       "</table>\n",
       "</div>"
      ],
      "text/plain": [
       "                          Name  Date     Rate     Votes  \\\n",
       "0               No Time to Die  2021      7.6   107,163   \n",
       "1                   The Guilty  2021      6.3    64,375   \n",
       "2    The Many Saints of Newark  2021      6.4    27,145   \n",
       "3  Venom: Let There Be Carnage  2021      6.4    30,443   \n",
       "4                         Dune  2021      8.3    84,636   \n",
       "5                    Ted Lasso  2021      8.8   117,562   \n",
       "6                     Free Guy  2021      7.3   153,835   \n",
       "7          House of the Dragon  2021  No Rate  No Votes   \n",
       "8                  What If...?  2021      7.6    51,959   \n",
       "9                Sex Education  2021      8.3   220,201   \n",
       "\n",
       "                          Genre Duration    Type Certificate Episodes  \\\n",
       "0   Action, Adventure, Thriller     163     Film       PG-13        -   \n",
       "1        Crime, Drama, Thriller      90     Film           R        -   \n",
       "2                  Crime, Drama     120     Film           R        -   \n",
       "3     Action, Adventure, Sci-Fi      97     Film       PG-13        -   \n",
       "4      Action, Adventure, Drama     155     Film       PG-13        -   \n",
       "5          Comedy, Drama, Sport      30   Series       TV-MA       23   \n",
       "6     Action, Adventure, Comedy     115     Film       PG-13        -   \n",
       "7      Action, Adventure, Drama     None  Series        None       10   \n",
       "8  Animation, Action, Adventure     None  Series       TV-14       18   \n",
       "9                 Comedy, Drama      45   Series       TV-MA       25   \n",
       "\n",
       "     Nudity  Violence Profanity   Alcohol Frightening  \n",
       "0      Mild  Moderate      Mild      Mild    Moderate  \n",
       "1      None      None    Severe      None    Moderate  \n",
       "2  Moderate    Severe    Severe  Moderate    Moderate  \n",
       "3      None  Moderate  Moderate      Mild    Moderate  \n",
       "4      None  Moderate      None      Mild    Moderate  \n",
       "5      Mild      None    Severe      Mild        None  \n",
       "6      Mild  Moderate  Moderate      None        Mild  \n",
       "7   No Rate   No Rate   No Rate   No Rate     No Rate  \n",
       "8      None  Moderate      Mild      Mild    Moderate  \n",
       "9    Severe      Mild    Severe  Moderate        Mild  "
      ]
     },
     "execution_count": 251,
     "metadata": {},
     "output_type": "execute_result"
    }
   ],
   "source": [
    "'''\n",
    "Task 1: Load the data and get familiar with it.\n",
    "'''\n",
    "import pandas as pd\n",
    "from matplotlib import pyplot as plt\n",
    "\n",
    "imdb_df = pd.read_csv(\"imdb.csv\")\n",
    "imdb_df.head(10)"
   ]
  },
  {
   "cell_type": "code",
   "execution_count": 252,
   "id": "4213974e",
   "metadata": {},
   "outputs": [
    {
     "data": {
      "text/plain": [
       "'\\nThis data source provides a look at the popularity ratings of movies and tv shows on IMDb. Along with ratings, it also includes information about each movie and show such as year of realease, genre, duration, type, certificate rating, etc. \\nLink: https://www.kaggle.com/datasets/mazenramadan/imdb-most-popular-films-and-series?resource=download\\n'"
      ]
     },
     "execution_count": 252,
     "metadata": {},
     "output_type": "execute_result"
    }
   ],
   "source": [
    "'''\n",
    "This data source provides a look at the popularity ratings of movies and tv shows on IMDb. Along with ratings, it also includes information about each movie and show such as year of realease, genre, duration, type, certificate rating, etc. \n",
    "Link: https://www.kaggle.com/datasets/mazenramadan/imdb-most-popular-films-and-series?resource=download\n",
    "'''"
   ]
  },
  {
   "cell_type": "code",
   "execution_count": 253,
   "id": "0086e216",
   "metadata": {},
   "outputs": [
    {
     "data": {
      "text/plain": [
       "'\\nQuestions to investigate dataset:\\n1. What are the top 15 most popular movies of all time? \\n2. Which genres produce the most popular movies?\\n3. Which years produced the most highly rated movies (8.0 and above)?\\n'"
      ]
     },
     "execution_count": 253,
     "metadata": {},
     "output_type": "execute_result"
    }
   ],
   "source": [
    "'''\n",
    "Questions to investigate dataset:\n",
    "1. What are the top 15 most popular movies of all time? \n",
    "2. Which genres produce the most popular movies?\n",
    "3. Which years produced the most highly rated movies (8.0 and above)?\n",
    "'''"
   ]
  },
  {
   "cell_type": "code",
   "execution_count": 254,
   "id": "baaaedc4",
   "metadata": {},
   "outputs": [
    {
     "data": {
      "text/plain": [
       "Name      object\n",
       "Date       int64\n",
       "Rate     float64\n",
       "Genre     object\n",
       "Type      object\n",
       "dtype: object"
      ]
     },
     "execution_count": 254,
     "metadata": {},
     "output_type": "execute_result"
    }
   ],
   "source": [
    "'''\n",
    "Task 2: Follow the data cleaning steps to clean the data.\n",
    "'''\n",
    "\n",
    "# Removes all unrelated features from the original dataset\n",
    "remove = ['Nudity', 'Violence', 'Profanity', 'Alcohol', 'Frightening', 'Episodes', 'Certificate', 'Duration', 'Votes']  \n",
    "imdb_df = imdb_df.drop(remove, axis=1)\n",
    "imdb_df.head(10)\n",
    "\n",
    "# Addresses missing values in datafame\n",
    "imdb_df['Rate'] = imdb_df['Rate'].replace(['No Rate'], None)\n",
    "imdb_df = imdb_df.dropna()\n",
    "\n",
    "# Drops duplicates\n",
    "imdb_df = imdb_df.drop_duplicates()\n",
    "\n",
    "# Checks the data type of each column to ensure it is correct and update if needed\n",
    "imdb_df.dtypes\n",
    "imdb_df = imdb_df.astype({'Rate': float})\n",
    "imdb_df.dtypes"
   ]
  },
  {
   "cell_type": "code",
   "execution_count": 255,
   "id": "a57f631a",
   "metadata": {},
   "outputs": [
    {
     "data": {
      "text/html": [
       "<div>\n",
       "<style scoped>\n",
       "    .dataframe tbody tr th:only-of-type {\n",
       "        vertical-align: middle;\n",
       "    }\n",
       "\n",
       "    .dataframe tbody tr th {\n",
       "        vertical-align: top;\n",
       "    }\n",
       "\n",
       "    .dataframe thead th {\n",
       "        text-align: right;\n",
       "    }\n",
       "</style>\n",
       "<table border=\"1\" class=\"dataframe\">\n",
       "  <thead>\n",
       "    <tr style=\"text-align: right;\">\n",
       "      <th></th>\n",
       "      <th>Name</th>\n",
       "      <th>Date</th>\n",
       "      <th>Rate</th>\n",
       "      <th>Genre</th>\n",
       "      <th>Type</th>\n",
       "    </tr>\n",
       "  </thead>\n",
       "  <tbody>\n",
       "    <tr>\n",
       "      <th>201</th>\n",
       "      <td>The Shawshank Redemption</td>\n",
       "      <td>1994</td>\n",
       "      <td>9.3</td>\n",
       "      <td>Drama</td>\n",
       "      <td>Film</td>\n",
       "    </tr>\n",
       "    <tr>\n",
       "      <th>819</th>\n",
       "      <td>Toma</td>\n",
       "      <td>2021</td>\n",
       "      <td>9.3</td>\n",
       "      <td>Biography, Drama, Music</td>\n",
       "      <td>Film</td>\n",
       "    </tr>\n",
       "    <tr>\n",
       "      <th>251</th>\n",
       "      <td>The Godfather</td>\n",
       "      <td>1972</td>\n",
       "      <td>9.2</td>\n",
       "      <td>Crime, Drama</td>\n",
       "      <td>Film</td>\n",
       "    </tr>\n",
       "    <tr>\n",
       "      <th>3611</th>\n",
       "      <td>Sardar Udham</td>\n",
       "      <td>2021</td>\n",
       "      <td>9.2</td>\n",
       "      <td>Biography, Crime, Drama</td>\n",
       "      <td>Film</td>\n",
       "    </tr>\n",
       "    <tr>\n",
       "      <th>270</th>\n",
       "      <td>The Dark Knight</td>\n",
       "      <td>2008</td>\n",
       "      <td>9.0</td>\n",
       "      <td>Action, Crime, Drama</td>\n",
       "      <td>Film</td>\n",
       "    </tr>\n",
       "    <tr>\n",
       "      <th>839</th>\n",
       "      <td>12 Angry Men</td>\n",
       "      <td>1957</td>\n",
       "      <td>9.0</td>\n",
       "      <td>Crime, Drama</td>\n",
       "      <td>Film</td>\n",
       "    </tr>\n",
       "    <tr>\n",
       "      <th>929</th>\n",
       "      <td>The Godfather: Part II</td>\n",
       "      <td>1974</td>\n",
       "      <td>9.0</td>\n",
       "      <td>Crime, Drama</td>\n",
       "      <td>Film</td>\n",
       "    </tr>\n",
       "    <tr>\n",
       "      <th>2742</th>\n",
       "      <td>Chal Mera Putt 2</td>\n",
       "      <td>2020</td>\n",
       "      <td>9.0</td>\n",
       "      <td>Drama</td>\n",
       "      <td>Film</td>\n",
       "    </tr>\n",
       "    <tr>\n",
       "      <th>320</th>\n",
       "      <td>Pulp Fiction</td>\n",
       "      <td>1994</td>\n",
       "      <td>8.9</td>\n",
       "      <td>Crime, Drama</td>\n",
       "      <td>Film</td>\n",
       "    </tr>\n",
       "    <tr>\n",
       "      <th>555</th>\n",
       "      <td>Schindler's List</td>\n",
       "      <td>1993</td>\n",
       "      <td>8.9</td>\n",
       "      <td>Biography, Drama, History</td>\n",
       "      <td>Film</td>\n",
       "    </tr>\n",
       "    <tr>\n",
       "      <th>816</th>\n",
       "      <td>The Lord of the Rings: The Return of the King</td>\n",
       "      <td>2003</td>\n",
       "      <td>8.9</td>\n",
       "      <td>Action, Adventure, Drama</td>\n",
       "      <td>Film</td>\n",
       "    </tr>\n",
       "    <tr>\n",
       "      <th>1003</th>\n",
       "      <td>The Black Phone</td>\n",
       "      <td>2021</td>\n",
       "      <td>8.9</td>\n",
       "      <td>Horror</td>\n",
       "      <td>Film</td>\n",
       "    </tr>\n",
       "    <tr>\n",
       "      <th>318</th>\n",
       "      <td>Inception</td>\n",
       "      <td>2010</td>\n",
       "      <td>8.8</td>\n",
       "      <td>Action, Adventure, Sci-Fi</td>\n",
       "      <td>Film</td>\n",
       "    </tr>\n",
       "    <tr>\n",
       "      <th>339</th>\n",
       "      <td>Fight Club</td>\n",
       "      <td>1999</td>\n",
       "      <td>8.8</td>\n",
       "      <td>Drama</td>\n",
       "      <td>Film</td>\n",
       "    </tr>\n",
       "    <tr>\n",
       "      <th>341</th>\n",
       "      <td>The Lord of the Rings: The Fellowship of the Ring</td>\n",
       "      <td>2001</td>\n",
       "      <td>8.8</td>\n",
       "      <td>Action, Adventure, Drama</td>\n",
       "      <td>Film</td>\n",
       "    </tr>\n",
       "  </tbody>\n",
       "</table>\n",
       "</div>"
      ],
      "text/plain": [
       "                                                   Name  Date  Rate  \\\n",
       "201                            The Shawshank Redemption  1994   9.3   \n",
       "819                                                Toma  2021   9.3   \n",
       "251                                       The Godfather  1972   9.2   \n",
       "3611                                       Sardar Udham  2021   9.2   \n",
       "270                                     The Dark Knight  2008   9.0   \n",
       "839                                        12 Angry Men  1957   9.0   \n",
       "929                              The Godfather: Part II  1974   9.0   \n",
       "2742                                   Chal Mera Putt 2  2020   9.0   \n",
       "320                                        Pulp Fiction  1994   8.9   \n",
       "555                                    Schindler's List  1993   8.9   \n",
       "816       The Lord of the Rings: The Return of the King  2003   8.9   \n",
       "1003                                    The Black Phone  2021   8.9   \n",
       "318                                           Inception  2010   8.8   \n",
       "339                                          Fight Club  1999   8.8   \n",
       "341   The Lord of the Rings: The Fellowship of the Ring  2001   8.8   \n",
       "\n",
       "                          Genre  Type  \n",
       "201                       Drama  Film  \n",
       "819     Biography, Drama, Music  Film  \n",
       "251                Crime, Drama  Film  \n",
       "3611    Biography, Crime, Drama  Film  \n",
       "270        Action, Crime, Drama  Film  \n",
       "839                Crime, Drama  Film  \n",
       "929                Crime, Drama  Film  \n",
       "2742                      Drama  Film  \n",
       "320                Crime, Drama  Film  \n",
       "555   Biography, Drama, History  Film  \n",
       "816    Action, Adventure, Drama  Film  \n",
       "1003                     Horror  Film  \n",
       "318   Action, Adventure, Sci-Fi  Film  \n",
       "339                       Drama  Film  \n",
       "341    Action, Adventure, Drama  Film  "
      ]
     },
     "execution_count": 255,
     "metadata": {},
     "output_type": "execute_result"
    }
   ],
   "source": [
    "'''\n",
    "Task 3 - Question 1: What are the top 15 most popular movies of all time?\n",
    "'''\n",
    "\n",
    "# Removes tv shows from the dataframe\n",
    "imdb_movies_df = imdb_df.drop(imdb_df.loc[imdb_df['Type']=='Series'].index)\n",
    "\n",
    "# Gets top 15 movies with the highest ratings\n",
    "highest_rated_movies_df = imdb_movies_df.nlargest(15, 'Rate')\n",
    "highest_rated_movies_df"
   ]
  },
  {
   "cell_type": "code",
   "execution_count": 256,
   "id": "05523480",
   "metadata": {},
   "outputs": [
    {
     "data": {
      "image/png": "[encoded data removed]",
      "text/plain": [
       "<Figure size 432x288 with 1 Axes>"
      ]
     },
     "metadata": {
      "needs_background": "light"
     },
     "output_type": "display_data"
    }
   ],
   "source": [
    "import numpy as np\n",
    "\n",
    "# Creates bar chart to show a comparison in ratings of the top rated movies\n",
    "plt.barh(highest_rated_movies_df.iloc[:, 0], highest_rated_movies_df.iloc[:, 2] )\n",
    "plt.title('Highest Rated Movies of All Time')\n",
    "plt.xlabel('Rating')\n",
    "plt.ylabel('Movie Titles')\n",
    "\n",
    "# Sets x and y axis info\n",
    "plt.xticks(np.arange(6, 11))\n",
    "\n",
    "plt.show()"
   ]
  },
  {
   "cell_type": "code",
   "execution_count": 257,
   "id": "ad511c7b",
   "metadata": {},
   "outputs": [
    {
     "data": {
      "text/plain": [
       "\"\\nFindings for Question 1: The highest rated movies of all time range over a large group of different genres and release years. The graph shows that most of the movies hold a rating of 9.0 or above with all of the top ratings landing above 8.5. Majority of the genre groups for these top rated movies list Drama in the group, which helps us come to the assumption that drama movies tend to have good ratings. There does not seem to be a clear correlation between year of release and high ratings in the graph or data frame. Most of the movies in the chart are well known movies that are known to be popular in the movie world. The movie with the highest rating is 'The Shawshank Redemption' which has a rating of 9.3 and the movie witht he lowest rating on this ist is 'The Lord of the Rings: The Fellowship of the Ring' which has a rating of 8.8. The average rating of the highest rated movies list is a rating of 9.0. \\n\""
      ]
     },
     "execution_count": 257,
     "metadata": {},
     "output_type": "execute_result"
    }
   ],
   "source": [
    "'''\n",
    "Findings for Question 1: The highest rated movies of all time range over a large group of different genres and release years. The graph shows that most of the movies hold a rating of 9.0 or above with all of the top ratings landing above 8.5. Majority of the genre groups for these top rated movies list Drama in the group, which helps us come to the assumption that drama movies tend to have good ratings. There does not seem to be a clear correlation between year of release and high ratings in the graph or data frame. Most of the movies in the chart are well known movies that are known to be popular in the movie world. The movie with the highest rating is 'The Shawshank Redemption' which has a rating of 9.3 and the movie witht he lowest rating on this ist is 'The Lord of the Rings: The Fellowship of the Ring' which has a rating of 8.8. The average rating of the highest rated movies list is a rating of 9.0. \n",
    "'''"
   ]
  },
  {
   "cell_type": "code",
   "execution_count": 258,
   "id": "05640ced",
   "metadata": {},
   "outputs": [
    {
     "data": {
      "text/plain": [
       "Genre\n",
       "Biography                       8.70\n",
       "Animation, Drama, War           8.50\n",
       "Drama, Mystery, War             8.35\n",
       "Adventure, Drama, War           8.30\n",
       "Adventure, Mystery, Thriller    8.30\n",
       "Crime, Drama, Film-Noir         8.30\n",
       "Crime, Drama, Sci-Fi            8.30\n",
       "Mystery, Romance, Thriller      8.30\n",
       "Animation, Drama                8.20\n",
       "Drama, Fantasy, History         8.20\n",
       "Name: Rate, dtype: float64"
      ]
     },
     "execution_count": 258,
     "metadata": {},
     "output_type": "execute_result"
    }
   ],
   "source": [
    "'''\n",
    "Task 3 - Question 2: Which genres produce the most popular movies?\n",
    "'''\n",
    "rating_group = imdb_movies_df.groupby('Genre')\n",
    "highest_rated_genres = rating_group['Rate'].mean().nlargest(10)\n",
    "highest_rated_genres"
   ]
  },
  {
   "cell_type": "code",
   "execution_count": 259,
   "id": "dd499587",
   "metadata": {},
   "outputs": [
    {
     "data": {
      "image/png": "[encoded data removed]",
      "text/plain": [
       "<Figure size 432x288 with 1 Axes>"
      ]
     },
     "metadata": {
      "needs_background": "light"
     },
     "output_type": "display_data"
    }
   ],
   "source": [
    "# Creates bar chart to show the highest rated genre groups\n",
    "highest_rated_genres.plot(kind = 'barh')\n",
    "plt.title('Highest Rated Genre Groups')\n",
    "plt.xlabel('Genres')\n",
    "plt.ylabel('Rating')\n",
    "\n",
    "# Sets x and y axis info\n",
    "plt.xticks(np.arange(6, 11))\n",
    "\n",
    "plt.show()"
   ]
  },
  {
   "cell_type": "code",
   "execution_count": 260,
   "id": "31df627b",
   "metadata": {},
   "outputs": [
    {
     "data": {
      "text/plain": [
       "\"\\nFindings for Question 2: The highest rated genre groups include a wide range of different genres. The individual genres that appear in a lot of the highest rated genre groups are Drama, War, and Crime. All the top-rated genre groups have a very similar rating falling between 8.2 and 8.7 with little difference between the highest rated genre group's rating and the lowest rated genre group on this list. The genre group with the highest rating is 'Biography' which has a rating of 8.7 and the genre group with the lowest rating on this list is 'Drama, Fantasy, History' which has a rating of 8.2. The average rating of the highest rated genre groups is a rating of 8.3. The results of both the data frame and the graph, as well as the average rating of the genre groups on the graph, allow us to make the assumption that any movie genre or genre group with a rating of 8.0 or above can be considered highly rated or popular.\\n\""
      ]
     },
     "execution_count": 260,
     "metadata": {},
     "output_type": "execute_result"
    }
   ],
   "source": [
    "'''\n",
    "Findings for Question 2: The highest rated genre groups include a wide range of different genres. The individual genres that appear in a lot of the highest rated genre groups are Drama, War, and Crime. All the top-rated genre groups have a very similar rating falling between 8.2 and 8.7 with little difference between the highest rated genre group's rating and the lowest rated genre group on this list. The genre group with the highest rating is 'Biography' which has a rating of 8.7 and the genre group with the lowest rating on this list is 'Drama, Fantasy, History' which has a rating of 8.2. The average rating of the highest rated genre groups is a rating of 8.3. The results of both the data frame and the graph, as well as the average rating of the genre groups on the graph, allow us to make the assumption that any movie genre or genre group with a rating of 8.0 or above can be considered highly rated or popular.\n",
    "'''"
   ]
  },
  {
   "cell_type": "code",
   "execution_count": 261,
   "id": "b393a6dd",
   "metadata": {},
   "outputs": [
    {
     "data": {
      "text/plain": [
       "Date\n",
       "2021    22\n",
       "1995    10\n",
       "2016    10\n",
       "2003     9\n",
       "2014     8\n",
       "1999     7\n",
       "2004     7\n",
       "2006     7\n",
       "2010     7\n",
       "2018     7\n",
       "dtype: int64"
      ]
     },
     "execution_count": 261,
     "metadata": {},
     "output_type": "execute_result"
    }
   ],
   "source": [
    "'''\n",
    "Task 3 - Question 3: Which years produced the most highly rated movies (Movies rated 8.0 and above)?\n",
    "'''\n",
    "# Gets number of movies with a rating of 8.0 or above in each year\n",
    "highest_rated_year = imdb_movies_df.loc[imdb_movies_df['Rate'] >= 8.0]\n",
    "year_rating_group = highest_rated_year.groupby('Date')\n",
    "years_for_high_rated_movies = year_rating_group.size()\n",
    "years_for_high_rated_movies\n",
    "\n",
    "# Gets top 10 years with the most highly rated movies\n",
    "top_years_for_high_rated_movies = years_for_high_rated_movies.nlargest(10)\n",
    "top_years_for_high_rated_movies"
   ]
  },
  {
   "cell_type": "code",
   "execution_count": 262,
   "id": "b114df79",
   "metadata": {},
   "outputs": [
    {
     "data": {
      "image/png": "[encoded data removed]",
      "text/plain": [
       "<Figure size 432x288 with 1 Axes>"
      ]
     },
     "metadata": {
      "needs_background": "light"
     },
     "output_type": "display_data"
    }
   ],
   "source": [
    "# Creates chart to show correlation between number of high rated movies released in different years\n",
    "top_years_for_high_rated_movies.plot(kind = 'bar')\n",
    "plt.title('Years with Largest Number of High Rated Movies')\n",
    "plt.xlabel('Years')\n",
    "plt.ylabel('# of Movies with High Rating (Above 8.0)')\n",
    "\n",
    "# Sets x and y axis info\n",
    "plt.xticks(rotation = 'vertical')\n",
    "plt.yticks(np.arange(0, 25, 2))\n",
    "\n",
    "plt.show()"
   ]
  },
  {
   "cell_type": "code",
   "execution_count": 263,
   "id": "60cd9396",
   "metadata": {},
   "outputs": [
    {
     "data": {
      "text/plain": [
       "'\\nFindings for Question 3: The graph shows that there is a significant difference between the number of movies with high ratings that were released in 2021 as opposed to the other years present on the graph. 2021 released 22 movies that were rated 8.0 and above while 1995 only released 10. Although the number of highly rated movies that were released in 1995, as well as the remaining years on the list, seems low in comparison to 2018, they are all still among this list of 10 different years that released the most highly rated movies. The average number of movies with high ratings released during the years present on the graph 9.4 movies. This allows us to make the assumption that if there were 9 or more movies rated 8.0 or above released in a certain year, that year can be considered one of the best producing years for movie releases.\\n'"
      ]
     },
     "execution_count": 263,
     "metadata": {},
     "output_type": "execute_result"
    }
   ],
   "source": [
    "'''\n",
    "Findings for Question 3: The graph shows that there is a significant difference between the number of movies with high ratings that were released in 2021 as opposed to the other years present on the graph. 2021 released 22 movies that were rated 8.0 and above while 1995 only released 10. Although the number of highly rated movies that were released in 1995, as well as the remaining years on the list, seems low in comparison to 2018, they are all still among this list of 10 different years that released the most highly rated movies. The average number of movies with high ratings released during the years present on the graph 9.4 movies. This allows us to make the assumption that if there were 9 or more movies rated 8.0 or above released in a certain year, that year can be considered one of the best producing years for movie releases.\n",
    "'''"
   ]
  },
  {
   "cell_type": "code",
   "execution_count": 264,
   "id": "0930ac01",
   "metadata": {},
   "outputs": [
    {
     "data": {
      "text/plain": [
       "\"\\nTask 4: Sumarize the main findings from this project as well as what you failed to find from the results. Describe what you want to further explore about the topic.\\n\\nOver the course of this project, I found out that the top rated movies are not solely tied to a certain year, genre, or genre group. There was, however, a trend in the 15 top rated movies of all time. Most of the top rated movies of all time listed either Drama or Crime in there genre groups. This helps us form the understanding that these two individual genres are fairly popular among movie watchers. I was also able to find that many of the movies or genre groups that were included in these top 10 lists had a rating of 8.0 and above. This shows that in order for a movie to be considered highly rated it must have a rating o 8.0 or above. This information was used to find the number of highly rated movies that were released in each year for question number three. That question revealed some pretty interesting information as it showed that 2021 produced significantly more highly rated movies than any other year. I found that they remaining years listed on the list of years with the largest number of high rated movies had an average number of 9 highly rated movies released. Although this average is significantly boosted by the numbers of 2021, it allows us to make the assumption that all years that released a total of 9 or more movies with rating above 8.0 were great years for the movie industry. I was unable to find any solid correlations between genre, year, and movie rating but the data provided enough information to make strong assumptions about trends in the data and future movies.\\nI would like to further explore this topic and try to find out how viewership numbers affect the ratings of movies as well as if the target audience of the movie makes a difference eon how a movie is rated. Example: Children's movie vs Thriller.\\n\""
      ]
     },
     "execution_count": 264,
     "metadata": {},
     "output_type": "execute_result"
    }
   ],
   "source": [
    "'''\n",
    "Task 4: Sumarize the main findings from this project as well as what you failed to find from the results. Describe what you want to further explore about the topic.\n",
    "\n",
    "Over the course of this project, I found out that the top rated movies are not solely tied to a certain year, genre, or genre group. There was, however, a trend in the 15 top rated movies of all time. Most of the top rated movies of all time listed either Drama or Crime in there genre groups. This helps us form the understanding that these two individual genres are fairly popular among movie watchers. I was also able to find that many of the movies or genre groups that were included in these top 10 lists had a rating of 8.0 and above. This shows that in order for a movie to be considered highly rated it must have a rating o 8.0 or above. This information was used to find the number of highly rated movies that were released in each year for question number three. That question revealed some pretty interesting information as it showed that 2021 produced significantly more highly rated movies than any other year. I found that they remaining years listed on the list of years with the largest number of high rated movies had an average number of 9 highly rated movies released. Although this average is significantly boosted by the numbers of 2021, it allows us to make the assumption that all years that released a total of 9 or more movies with rating above 8.0 were great years for the movie industry. I was unable to find any solid correlations between genre, year, and movie rating but the data provided enough information to make strong assumptions about trends in the data and future movies.\n",
    "I would like to further explore this topic and try to find out how viewership numbers affect the ratings of movies as well as if the target audience of the movie makes a difference eon how a movie is rated. Example: Children's movie vs Thriller.\n",
    "'''"
   ]
  },
  {
   "cell_type": "code",
   "execution_count": null,
   "id": "0af302f1",
   "metadata": {},
   "outputs": [],
   "source": []
  }
 ],
 "metadata": {
  "kernelspec": {
   "display_name": "Python 3 (ipykernel)",
   "language": "python",
   "name": "python3"
  },
  "language_info": {
   "codemirror_mode": {
    "name": "ipython",
    "version": 3
   },
   "file_extension": ".py",
   "mimetype": "text/x-python",
   "name": "python",
   "nbconvert_exporter": "python",
   "pygments_lexer": "ipython3",
   "version": "3.9.12"
  }
 },
 "nbformat": 4,
 "nbformat_minor": 5
}
